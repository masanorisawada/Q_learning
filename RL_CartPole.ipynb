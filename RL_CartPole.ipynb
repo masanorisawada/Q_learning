{
 "cells": [
  {
   "cell_type": "code",
   "execution_count": 6,
   "metadata": {
    "collapsed": true
   },
   "outputs": [],
   "source": []
  },
  {
   "cell_type": "markdown",
   "metadata": {},
   "source": [
    "# ライブラリのインポート"
   ]
  },
  {
   "cell_type": "code",
   "execution_count": 1,
   "metadata": {
    "pycharm": {
     "name": "#%%\n"
    }
   },
   "outputs": [],
   "source": [
    "import numpy as np\n",
    "import matplotlib.pyplot as plt\n",
    "%matplotlib inline\n",
    "import gym"
   ]
  },
  {
   "cell_type": "markdown",
   "metadata": {},
   "source": [
    "# 動画に保存する関数"
   ]
  },
  {
   "cell_type": "code",
   "execution_count": 2,
   "metadata": {
    "pycharm": {
     "name": "#%%\n"
    }
   },
   "outputs": [],
   "source": [
    "from JSAnimation.IPython_display import display_animation\n",
    "from matplotlib import animation\n",
    "from IPython.display import display\n",
    "\n",
    "def save_as_gif(frames):\n",
    "    plt.figure(figsize=(frames[0].shape[1]/72.0, frames[0].shape[0]/72.0), dpi=72)\n",
    "    patch = plt.imshow(frames[0])\n",
    "    plt.axis('off')\n",
    "\n",
    "    def animate(i):\n",
    "        patch.set_data(frames[i])\n",
    "\n",
    "    anim = animation.FuncAnimation(plt.gcf(), animate, frames=len(frames), interval=50)\n",
    "\n",
    "    anim.save('RL-cartpole.mp4')\n",
    "    display(display_animation(anim, default_mode='loop'))\n"
   ]
  },
  {
   "cell_type": "code",
   "execution_count": 3,
   "metadata": {
    "pycharm": {
     "name": "#%%\n"
    }
   },
   "outputs": [],
   "source": [
    "# 学習に使う変数を整理\n",
    "ENV = 'CartPole-v0'\n",
    "# 状態をどれくらいの値で分割して離散値とするか\n",
    "NUM_DIGITIZED = 6\n",
    "# 報酬割引率\n",
    "GAMMA = 0.99\n",
    "# 学習率\n",
    "ETA = 0.5\n",
    "# 1試行（1エピソード）の最大ステップ数\n",
    "MAX_STEP = 200\n",
    "# 最大試行回数（エピソード数）\n",
    "NUM_EPISODES = 1000\n"
   ]
  },
  {
   "cell_type": "code",
   "execution_count": 4,
   "metadata": {
    "pycharm": {
     "name": "#%%\n"
    }
   },
   "outputs": [],
   "source": [
    "# エージェントクラス\n",
    "class Agent:\n",
    "\n",
    "    # 初期化関数で行動数と行動の種類を受けとり，行動を決定するためのBrainクラスを生成する\n",
    "    def __init__(self, num_states, num_actions):\n",
    "        self.brain = Brain(num_states, num_actions)\n",
    "\n",
    "    # Q関数を更新\n",
    "    def update_q_function(self, observation, action, reward, observation_next):\n",
    "        self.brain.update_Q_table(observation, action, reward, observation_next)\n",
    "\n",
    "    # 行動の決定\n",
    "    def get_action(self, observation, step):\n",
    "        return self.brain.decide_action(observation, step)\n",
    "\n",
    "\n",
    "# エージェントが行う行動を与えられた状態によって判断する部分（強化学習を行う部分）\n",
    "class Brain:\n",
    "\n",
    "    def __init__(self, num_states, num_actions):\n",
    "        self.num_actions = num_actions\n",
    "        # Qテーブルを作成。行数は状態を分割数^（4変数）にデジタル変換した値、列数は行動数を示す\n",
    "        self.q_table = np.random.uniform(low=0, high=1, size=(NUM_DIGITIZED**num_states, num_actions))\n",
    "\n",
    "\n",
    "    # カート情報を離散化するための閾値を求める\n",
    "    def bins(self, clip_min, clip_max, num):\n",
    "        return np.linspace(clip_min, clip_max, num + 1)[1:-1]\n",
    "\n",
    "    # カートの情報を離散化する\n",
    "    def digitize_state(self, observation):\n",
    "        '''観測したobservation状態を、離散値に変換する'''\n",
    "        cart_pos, cart_v, pole_angle, pole_v = observation\n",
    "        digitized = [\n",
    "            np.digitize(cart_pos, bins=self.bins(-2.4, 2.4, NUM_DIGITIZED)),\n",
    "            np.digitize(cart_v, bins=self.bins(-3.0, 3.0, NUM_DIGITIZED)),\n",
    "            np.digitize(pole_angle, bins=self.bins(-0.5, 0.5, NUM_DIGITIZED)),\n",
    "            np.digitize(pole_v, bins=self.bins(-2.0, 2.0, NUM_DIGITIZED))\n",
    "        ]\n",
    "        return sum([x * (NUM_DIGITIZED**i) for i, x in enumerate(digitized)])\n",
    "\n",
    "    # QテーブルをQ学習により更新\n",
    "    def update_Q_table(self, observation, action, reward, observation_next):\n",
    "        state = self.digitize_state(observation)\n",
    "        state_next = self.digitize_state(observation_next)\n",
    "        max_Q_next = max(self.q_table[state_next][:])\n",
    "        self.q_table[state, action] = self.q_table[state, action] + ETA * (reward + GAMMA * max_Q_next - self.q_table[state, action])\n",
    "\n",
    "\n",
    "\n",
    "    # ε-greedy法で徐々に最適行動を行うようにする\n",
    "    def decide_action(self, observation, episode):\n",
    "        state = self.digitize_state(observation)\n",
    "        epsilon = 0.5 * (1 / (episode + 1))\n",
    "        if epsilon <= np.random.uniform(0, 1):\n",
    "            action = np.argmax(self.q_table[state][:])\n",
    "        else:\n",
    "            action = np.random.choice(self.num_actions) \n",
    "        return action\n",
    "\n"
   ]
  },
  {
   "cell_type": "code",
   "execution_count": 5,
   "metadata": {
    "pycharm": {
     "name": "#%%\n"
    }
   },
   "outputs": [],
   "source": [
    "## CartPoleを実行する環境\n",
    "class Environment:\n",
    "\n",
    "    def __init__(self):\n",
    "        self.env = gym.make(ENV)  # 実行する課題を設定\n",
    "        num_states = self.env.observation_space.shape[0]  # 課題の状態を取得\n",
    "        num_actions = self.env.action_space.n  # CartPoleの行動を取得\n",
    "        self.agent = Agent(num_states, num_actions)  # 環境内で行動するAgentを生成\n",
    "\n",
    "    ## 実行関数\n",
    "    def run(self):\n",
    "\n",
    "        complete_episodes = 0  # 195step以上連続で立ち続けた試行数\n",
    "        is_episode_final = False  # 最終試行フラグ\n",
    "        frames = []  # 動画用に画像を格納する変数\n",
    "\n",
    "        # 全エピソードループ\n",
    "        for episode in range(NUM_EPISODES):\n",
    "            #エピソード毎に環境を初期化\n",
    "            observation = self.env.reset()\n",
    "\n",
    "            for step in range(MAX_STEP):\n",
    "                if is_episode_final:\n",
    "                    frames.append(self.env.render(mode = 'rgb_array'))\n",
    "\n",
    "                #行動を決める\n",
    "                action = self.agent.get_action(observation.episode)\n",
    "                #最初の行動から次の行動を求める\n",
    "                observation_next, _, done, _ = self.env.step(action)\n",
    "\n",
    "                #報酬を与える\n",
    "                if done:\n",
    "                    if step < 195:\n",
    "                         #こけたら報酬−１\n",
    "                        reward = -1\n",
    "                        complete_episodes = 0\n",
    "                    else:\n",
    "                        #立ったまま終了した場合は報酬1を与える\n",
    "                        reward = 1\n",
    "                        complete_episodes += 1 \n",
    "                else:\n",
    "                    reward = 0\n",
    "\n",
    "\n",
    "                self.agent.update_Q_functional(observation, action, reward, observation_next)\n",
    "\n",
    "                 #状態を次の状態に更新\n",
    "                observation = observation_next\n",
    "\n",
    "\n",
    "                 #エピソード終了時\n",
    "                if doone:\n",
    "                    print('{0}エピソード: {1}ステップで終了'.format(episode, step+1))\n",
    "                    break\n",
    "            \n",
    "            \n",
    "            if is_episode_final:\n",
    "                save_as_gif(frames)\n",
    "                break\n",
    "\n",
    "            #10回連続で成功したら、次のエピソードで終わりにする\n",
    "            if complete_episodes >= 10:\n",
    "                print('10回連続成功')\n",
    "                is_episode_final = True\n",
    "            \n",
    "\n",
    "            # 1エピソードループ\n",
    "            # ほげほげ\n",
    "\n",
    "\n",
    "\n",
    "    # 最終試行では動画を保存と描画\n",
    "\n",
    "\n",
    "    # 10エピソード連続成功なら次の試行を描画を行う最終試行とする\n"
   ]
  },
  {
   "cell_type": "code",
   "execution_count": 14,
   "metadata": {
    "pycharm": {
     "name": "#%%\n"
    }
   },
   "outputs": [
    {
     "ename": "AttributeError",
     "evalue": "'numpy.ndarray' object has no attribute 'episode'",
     "output_type": "error",
     "traceback": [
      "\u001b[0;31m---------------------------------------------------------------------------\u001b[0m",
      "\u001b[0;31mAttributeError\u001b[0m                            Traceback (most recent call last)",
      "\u001b[0;32m<ipython-input-14-135fd70ab5ea>\u001b[0m in \u001b[0;36m<module>\u001b[0;34m\u001b[0m\n\u001b[1;32m      1\u001b[0m \u001b[0;31m# main\u001b[0m\u001b[0;34m\u001b[0m\u001b[0;34m\u001b[0m\u001b[0;34m\u001b[0m\u001b[0m\n\u001b[1;32m      2\u001b[0m \u001b[0mcartpole_env\u001b[0m \u001b[0;34m=\u001b[0m \u001b[0mEnvironment\u001b[0m\u001b[0;34m(\u001b[0m\u001b[0;34m)\u001b[0m\u001b[0;34m\u001b[0m\u001b[0;34m\u001b[0m\u001b[0m\n\u001b[0;32m----> 3\u001b[0;31m \u001b[0mcartpole_env\u001b[0m\u001b[0;34m.\u001b[0m\u001b[0mrun\u001b[0m\u001b[0;34m(\u001b[0m\u001b[0;34m)\u001b[0m\u001b[0;34m\u001b[0m\u001b[0;34m\u001b[0m\u001b[0m\n\u001b[0m",
      "\u001b[0;32m<ipython-input-13-ad8ecd1ddfa8>\u001b[0m in \u001b[0;36mrun\u001b[0;34m(self)\u001b[0m\n\u001b[1;32m     25\u001b[0m \u001b[0;34m\u001b[0m\u001b[0m\n\u001b[1;32m     26\u001b[0m                 \u001b[0;31m#行動を決める\u001b[0m\u001b[0;34m\u001b[0m\u001b[0;34m\u001b[0m\u001b[0;34m\u001b[0m\u001b[0m\n\u001b[0;32m---> 27\u001b[0;31m                 \u001b[0maction\u001b[0m \u001b[0;34m=\u001b[0m \u001b[0mself\u001b[0m\u001b[0;34m.\u001b[0m\u001b[0magent\u001b[0m\u001b[0;34m.\u001b[0m\u001b[0mget_action\u001b[0m\u001b[0;34m(\u001b[0m\u001b[0mobservation\u001b[0m\u001b[0;34m.\u001b[0m\u001b[0mepisode\u001b[0m\u001b[0;34m)\u001b[0m\u001b[0;34m\u001b[0m\u001b[0;34m\u001b[0m\u001b[0m\n\u001b[0m\u001b[1;32m     28\u001b[0m                 \u001b[0;31m#最初の行動から次の行動を求める\u001b[0m\u001b[0;34m\u001b[0m\u001b[0;34m\u001b[0m\u001b[0;34m\u001b[0m\u001b[0m\n\u001b[1;32m     29\u001b[0m                 \u001b[0mobservation_next\u001b[0m\u001b[0;34m,\u001b[0m \u001b[0m_\u001b[0m\u001b[0;34m,\u001b[0m \u001b[0mdone\u001b[0m\u001b[0;34m,\u001b[0m \u001b[0m_\u001b[0m \u001b[0;34m=\u001b[0m \u001b[0mself\u001b[0m\u001b[0;34m.\u001b[0m\u001b[0menv\u001b[0m\u001b[0;34m.\u001b[0m\u001b[0mstep\u001b[0m\u001b[0;34m(\u001b[0m\u001b[0maction\u001b[0m\u001b[0;34m)\u001b[0m\u001b[0;34m\u001b[0m\u001b[0;34m\u001b[0m\u001b[0m\n",
      "\u001b[0;31mAttributeError\u001b[0m: 'numpy.ndarray' object has no attribute 'episode'"
     ]
    }
   ],
   "source": [
    "# main\n",
    "cartpole_env = Environment()\n",
    "cartpole_env.run()"
   ]
  },
  {
   "cell_type": "code",
   "execution_count": null,
   "metadata": {},
   "outputs": [],
   "source": []
  }
 ],
 "metadata": {
  "kernelspec": {
   "display_name": "Python 3",
   "language": "python",
   "name": "python3"
  },
  "language_info": {
   "codemirror_mode": {
    "name": "ipython",
    "version": 3
   },
   "file_extension": ".py",
   "mimetype": "text/x-python",
   "name": "python",
   "nbconvert_exporter": "python",
   "pygments_lexer": "ipython3",
   "version": "3.8.2"
  }
 },
 "nbformat": 4,
 "nbformat_minor": 1
}
